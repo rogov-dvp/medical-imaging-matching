{
 "cells": [
  {
   "cell_type": "code",
   "execution_count": 4,
   "metadata": {},
   "outputs": [],
   "source": [
    "from PIL import Image, ImageOps\n",
    "import os"
   ]
  },
  {
   "cell_type": "code",
   "execution_count": null,
   "metadata": {},
   "outputs": [],
   "source": [
    "root_dir = '/Users/niklastecklenburg/Desktop/Test/BreastDetector/Data'\n",
    "\n",
    "for subdir, dirs, files in os.walk(root_dir):\n",
    "    for i,file in enumerate(files):\n",
    "        img = Image.open(os.path.join(subdir, file))\n",
    "        gray_image = ImageOps.grayscale(img)\n",
    "        name = '../Data/Processed/' + str(i) +'.jpeg'\n",
    "        gray_image.save(name)"
   ]
  }
 ],
 "metadata": {
  "interpreter": {
   "hash": "80a48ae8c71c47635098f949858e5a595d8f35cf974b53732b89d151ad08617d"
  },
  "kernelspec": {
   "display_name": "Python 3.7.12 64-bit ('mim': conda)",
   "language": "python",
   "name": "python3"
  },
  "language_info": {
   "codemirror_mode": {
    "name": "ipython",
    "version": 3
   },
   "file_extension": ".py",
   "mimetype": "text/x-python",
   "name": "python",
   "nbconvert_exporter": "python",
   "pygments_lexer": "ipython3",
   "version": "3.7.12"
  },
  "orig_nbformat": 4
 },
 "nbformat": 4,
 "nbformat_minor": 2
}
